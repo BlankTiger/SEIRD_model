{
 "cells": [
  {
   "cell_type": "markdown",
   "metadata": {},
   "source": [
    "<center><h3>SEIRD</h3></center>\n",
    "\n",
    "$$\\frac{\\partial S_n}{\\partial t}=-\\beta\\sigma_nS_n\\left(\\sum_m{k_{n,m}I_m}\\right)$$\n",
    "$$\\frac{\\partial E_n}{\\partial t}=\\beta\\sigma_nS_n\\left(\\sum_m{k_{n,m}I_m}\\right)-\\varepsilon E_n$$\n",
    "$$\\frac{\\partial I_{s,n}}{\\partial t}=\\varepsilon f_s E_n - \\left(\\gamma_s + \\delta_n\\right)I_{s,n}$$\n",
    "$$\\frac{\\partial I_{a,n}}{\\partial t}=\\varepsilon \\left(1-f_s\\right)E_n-\\gamma_aI_{a,n}$$\n",
    "$$\\frac{\\partial R_{n}}{\\partial t}=\\gamma_aI_{a,n}+\\gamma_sI_{s,n}$$\n",
    "$$\\frac{\\partial D_{n}}{\\partial t}=\\delta_nI_{s,n}$$"
   ]
  },
  {
   "cell_type": "code",
   "execution_count": 14,
   "metadata": {},
   "outputs": [],
   "source": [
    "from utils.example_coefficient_matrices import sweden_coefficients\n",
    "from utils.example_contact_matrices import sweden_contact_matrix\n",
    "from utils.mathematics import solve_SEIRD\n",
    "import matplotlib.pyplot as plt\n",
    "import numpy as np"
   ]
  },
  {
   "cell_type": "code",
   "execution_count": 49,
   "metadata": {},
   "outputs": [],
   "source": [
    "def cutout(array, index):\n",
    "    return np.delete(array, index, axis=0)"
   ]
  },
  {
   "cell_type": "code",
   "execution_count": 20,
   "metadata": {},
   "outputs": [
    {
     "name": "stdout",
     "output_type": "stream",
     "text": [
      "[[1.25e-01 1.25e-01 1.25e-01 1.25e-01 1.25e-01 1.25e-01 1.25e-01 1.25e-01]\n",
      " [0.00e+00 0.00e+00 0.00e+00 0.00e+00 0.00e+00 0.00e+00 0.00e+00 0.00e+00]\n",
      " [1.00e-04 1.00e-04 1.00e-04 1.00e-04 1.00e-04 1.00e-04 1.00e-04 1.00e-04]\n",
      " [0.00e+00 1.00e-04 0.00e+00 0.00e+00 0.00e+00 0.00e+00 0.00e+00 0.00e+00]\n",
      " [0.00e+00 0.00e+00 0.00e+00 0.00e+00 0.00e+00 0.00e+00 0.00e+00 0.00e+00]\n",
      " [0.00e+00 0.00e+00 0.00e+00 0.00e+00 0.00e+00 0.00e+00 0.00e+00 0.00e+00]]\n",
      "2.5e-05\n"
     ]
    },
    {
     "ename": "ValueError",
     "evalue": "shapes (1,8) and (6,1) not aligned: 8 (dim 1) != 6 (dim 0)",
     "output_type": "error",
     "traceback": [
      "\u001b[1;31m---------------------------------------------------------------------------\u001b[0m",
      "\u001b[1;31mValueError\u001b[0m                                Traceback (most recent call last)",
      "\u001b[1;32m~\\AppData\\Local\\Temp/ipykernel_14160/536428320.py\u001b[0m in \u001b[0;36m<module>\u001b[1;34m\u001b[0m\n\u001b[0;32m     40\u001b[0m     \u001b[1;31m# have to cut out the current age group element\u001b[0m\u001b[1;33m\u001b[0m\u001b[1;33m\u001b[0m\u001b[0m\n\u001b[0;32m     41\u001b[0m \u001b[1;33m\u001b[0m\u001b[0m\n\u001b[1;32m---> 42\u001b[1;33m     \u001b[0msum_m_contact_nm_times_I_m\u001b[0m \u001b[1;33m=\u001b[0m \u001b[0msweden_contact_matrix\u001b[0m\u001b[1;33m[\u001b[0m\u001b[0mn\u001b[0m\u001b[1;33m,\u001b[0m \u001b[1;33m:\u001b[0m\u001b[1;33m]\u001b[0m\u001b[1;33m.\u001b[0m\u001b[0mdot\u001b[0m\u001b[1;33m(\u001b[0m\u001b[0my0\u001b[0m\u001b[1;33m[\u001b[0m\u001b[1;33m:\u001b[0m\u001b[1;33m,\u001b[0m \u001b[1;36m2\u001b[0m\u001b[1;33m]\u001b[0m\u001b[1;33m+\u001b[0m\u001b[0my0\u001b[0m\u001b[1;33m[\u001b[0m\u001b[1;33m:\u001b[0m\u001b[1;33m,\u001b[0m \u001b[1;36m3\u001b[0m\u001b[1;33m]\u001b[0m\u001b[1;33m)\u001b[0m\u001b[1;33m[\u001b[0m\u001b[1;36m0\u001b[0m\u001b[1;33m,\u001b[0m \u001b[1;36m0\u001b[0m\u001b[1;33m]\u001b[0m\u001b[1;33m\u001b[0m\u001b[1;33m\u001b[0m\u001b[0m\n\u001b[0m\u001b[0;32m     43\u001b[0m     y_values.append(solve_SEIRD(\n\u001b[0;32m     44\u001b[0m         \u001b[0mt_range\u001b[0m\u001b[1;33m,\u001b[0m\u001b[1;33m\u001b[0m\u001b[1;33m\u001b[0m\u001b[0m\n",
      "\u001b[1;31mValueError\u001b[0m: shapes (1,8) and (6,1) not aligned: 8 (dim 1) != 6 (dim 0)"
     ]
    }
   ],
   "source": [
    "t_range = (0, 100)\n",
    "y0 = np.matrix([\n",
    "    [0.125, 0, 1e-4, 0, 0, 0],\n",
    "    [0.125, 0, 1e-4, 1e-4, 0, 0],\n",
    "    [0.125, 0, 1e-4, 0, 0, 0],\n",
    "    [0.125, 0, 1e-4, 0, 0, 0],\n",
    "    [0.125, 0, 1e-4, 0, 0, 0],\n",
    "    [0.125, 0, 1e-4, 0, 0, 0],\n",
    "    [0.125, 0, 1e-4, 0, 0, 0],\n",
    "    [0.125, 0, 1e-4, 0, 0, 0],\n",
    "]).T\n",
    "y0 = np.matrix([\n",
    "    [0.125, 0.125,0.125,0.125,0.125,0.125,0.125,0.125],\n",
    "    [0.000, 0.000,0.000,0.000,0.000,0.000,0.000,0.000],\n",
    "    [1e-4, 1e-4,1e-4,1e-4,1e-4,1e-4,1e-4,1e-4],\n",
    "    [0,1e-4,0,0,0,0.000,0.000,0.000],\n",
    "    [0.000, 0.000,0.000,0.000,0.000,0.000,0.000,0.000],\n",
    "    [0.000, 0.000,0.000,0.000,0.000,0.000,0.000,0.000]])\n",
    "print(y0)\n",
    "t_values = np.linspace(0, 100, 10000)\n",
    "y_values = []\n",
    "for n in range(0, 8):\n",
    "    beta_n = sweden_coefficients[0, n]\n",
    "    sigma_n = sweden_coefficients[1, n]\n",
    "    epsilon_n = sweden_coefficients[2, n]\n",
    "    f_sn = sweden_coefficients[3, n]\n",
    "    gamma_sn = sweden_coefficients[4, n]\n",
    "    gamma_an = sweden_coefficients[5, n]\n",
    "    delta_n = sweden_coefficients[6, n]\n",
    "    (beta_i, sigma_i, epsilon_i, f_si, gamma_si, gamma_ai, delta_i) = (sweden_coefficients[i, n] for i in range(7))\n",
    "    print(beta_i)\n",
    "    assert beta_n == beta_i\n",
    "    assert sigma_n == sigma_i\n",
    "    assert epsilon_n == epsilon_i\n",
    "    assert f_sn == f_si\n",
    "    assert gamma_sn == gamma_si\n",
    "    assert gamma_an == gamma_ai\n",
    "    assert delta_n == delta_i\n",
    "    # check if this is correct\n",
    "    # have to cut out the current age group element\n",
    "    \n",
    "    sum_m_contact_nm_times_I_m = sweden_contact_matrix[n, :].dot(y0[:, 2]+y0[:, 3])[0, 0]\n",
    "    y_values.append(solve_SEIRD(\n",
    "        t_range,\n",
    "        np.asarray(y0[n, :]).reshape(-1),\n",
    "        beta_n,\n",
    "        sigma_n,\n",
    "        epsilon_n,\n",
    "        f_sn,\n",
    "        gamma_sn,\n",
    "        gamma_an,\n",
    "        delta_n,\n",
    "        sum_m_contact_nm_times_I_m,\n",
    "        t_values\n",
    "    ))\n",
    "\n",
    "    \n",
    "    print(beta_n, sigma_n, epsilon_n, f_sn, gamma_sn, gamma_an, delta_n, sweden_contact_matrix[n, :], y0[:, 2]+y0[:, 3], sum_m_contact_nm_times_I_m)\n",
    "    print()\n",
    "print(y0[1:,2]+y0[1:,3], sweden_contact_matrix[1, 1:], sweden_contact_matrix[1, 1:].dot(y0[1:, 2]+y0[1:, 3])[0, 0])\n",
    "# plot solution\n",
    "fig, (ax1, ax2, ax3, ax4, ax5, ax6) = plt.subplots(6, 1, sharex=True)\n",
    "ax1.plot(t_values, y_values[0].y[3, :])\n",
    "ax2.plot(t_values, y_values[1].y[3, :])\n",
    "ax3.plot(t_values, y_values[2].y[3, :])\n",
    "ax4.plot(t_values, y_values[3].y[3, :])\n",
    "ax5.plot(t_values, y_values[4].y[3, :])\n",
    "ax6.plot(t_values, y_values[5].y[3, :])\n",
    "\n",
    "    \n",
    "# plt.plot(t_values, y_values[0].y[0, :], label=\"S\")\n",
    "# plt.plot(t_values, y_values[0].y[1, :], label=\"E\")\n",
    "# plt.plot(t_values, y_values[0].y[2, :], label=\"I_s\")\n",
    "# plt.plot(t_values, y_values[0].y[3, :], label=\"I_a\")\n",
    "# plt.plot(t_values, y_values[0].y[4, :], label=\"R\")\n",
    "# plt.plot(t_values, y_values[0].y[5, :], label=\"D\")\n",
    "plt.legend()\n",
    "plt.subplots_adjust(left=0, right=3, top=3, bottom=0)\n",
    "plt.show()\n"
   ]
  }
 ],
 "metadata": {
  "interpreter": {
   "hash": "ff504b19ffb8e05a4250f006d071c8615676efafe946887cdb8c20d3b283d86f"
  },
  "kernelspec": {
   "display_name": "Python 3.10.1 64-bit ('SEIRD_model': venv)",
   "language": "python",
   "name": "python3"
  },
  "language_info": {
   "codemirror_mode": {
    "name": "ipython",
    "version": 3
   },
   "file_extension": ".py",
   "mimetype": "text/x-python",
   "name": "python",
   "nbconvert_exporter": "python",
   "pygments_lexer": "ipython3",
   "version": "3.10.1"
  },
  "orig_nbformat": 4
 },
 "nbformat": 4,
 "nbformat_minor": 2
}
