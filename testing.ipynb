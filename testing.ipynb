{
 "cells": [
  {
   "cell_type": "markdown",
   "metadata": {},
   "source": [
    "<center><h3>SEIRD</h3></center>\n",
    "\n",
    "$$\\frac{\\partial S_n}{\\partial t}=-\\beta\\sigma_nS_n\\left(\\sum_m{k_{n,m}I_m}\\right)$$\n",
    "$$\\frac{\\partial E_n}{\\partial t}=\\beta\\sigma_nS_n\\left(\\sum_m{k_{n,m}I_m}\\right)-\\varepsilon E_n$$\n",
    "$$\\frac{\\partial I_{s,n}}{\\partial t}=\\varepsilon f_s E_n - \\left(\\gamma_s + \\delta_n\\right)I_{s,n}$$\n",
    "$$\\frac{\\partial I_{a,n}}{\\partial t}=\\varepsilon \\left(1-f_s\\right)E_n-\\gamma_aI_{a,n}$$\n",
    "$$\\frac{\\partial R_{n}}{\\partial t}=\\gamma_aI_{a,n}+\\gamma_sI_{s,n}$$\n",
    "$$\\frac{\\partial D_{n}}{\\partial t}=\\delta_nI_{s,n}$$"
   ]
  },
  {
   "cell_type": "code",
   "execution_count": 1,
   "metadata": {},
   "outputs": [],
   "source": [
    "from utils.example_coefficient_matrices import sweden_coefficients\n",
    "from utils.example_contact_matrices import sweden_contact_matrix\n",
    "from utils.mathematics import solve_SEIRD\n",
    "import matplotlib.pyplot as plt\n",
    "import numpy as np"
   ]
  },
  {
   "cell_type": "code",
   "execution_count": 7,
   "metadata": {},
   "outputs": [
    {
     "name": "stdout",
     "output_type": "stream",
     "text": [
      "2.5e-05 1.0 0.18 0.6 0.07 0.06 0.0017 [[3.033]]\n",
      "2.5e-05 1.0 0.18 0.6 0.07 0.06 0.0 [[5.111]]\n",
      "2.5e-05 1.0 0.18 0.6 0.07 0.06 0.0007 [[1.225]]\n",
      "2.5e-05 1.0 0.18 0.6 0.07 0.06 0.0012 [[1.466]]\n",
      "2.5e-05 1.0 0.18 0.6 0.07 0.06 0.0031 [[1.539]]\n",
      "2.5e-05 1.0 0.18 0.6 0.07 0.06 0.0105 [[1.372]]\n",
      "2.5e-05 1.0 0.18 0.6 0.07 0.06 0.0459 [[0.742]]\n",
      "2.5e-05 1.0 0.18 0.6 0.07 0.06 0.3253 [[0.584]]\n",
      "[[1.]\n",
      " [1.]\n",
      " [0.]\n",
      " [0.]\n",
      " [0.]\n",
      " [0.]\n",
      " [0.]\n",
      " [0.]] [[0.496 4.615 0.69  0.644 0.912 0.279 0.092 0.046]]\n"
     ]
    }
   ],
   "source": [
    "t_range = (0, 100)\n",
    "y0 = np.matrix([\n",
    "    [1, 1e-4, 1, 0, 0, 0],\n",
    "    [1, 1e-4, 0, 1, 0, 0],\n",
    "    [1, 1e-4, 0, 0, 0, 0],\n",
    "    [1, 1e-4, 0, 0, 0, 0],\n",
    "    [1, 1e-4, 0, 0, 0, 0],\n",
    "    [1, 1e-4, 0, 0, 0, 0],\n",
    "    [1, 1e-4, 0, 0, 0, 0],\n",
    "    [1, 1e-4, 0, 0, 0, 0],\n",
    "])\n",
    "t_values = np.linspace(0, 100, 100)\n",
    "\n",
    "for n in range(0, 8):\n",
    "    beta_n = sweden_coefficients[0, n]\n",
    "    sigma_n = sweden_coefficients[1, n]\n",
    "    epsilon_n = sweden_coefficients[2, n]\n",
    "    f_sn = sweden_coefficients[3, n]\n",
    "    gamma_sn = sweden_coefficients[4, n]\n",
    "    gamma_an = sweden_coefficients[5, n]\n",
    "    delta_n = sweden_coefficients[6, n]\n",
    "    # check if this is correct\n",
    "    sum_m_contact_nm_times_I_m = sweden_contact_matrix[n, :].dot(y0[:, 2]+y0[:, 3])\n",
    "    \n",
    "    print(beta_n, sigma_n, epsilon_n, f_sn, gamma_sn, gamma_an, delta_n, sum_m_contact_nm_times_I_m)\n",
    "print(y0[:,2]+y0[:,3], sweden_contact_matrix[1, :])"
   ]
  }
 ],
 "metadata": {
  "interpreter": {
   "hash": "ff504b19ffb8e05a4250f006d071c8615676efafe946887cdb8c20d3b283d86f"
  },
  "kernelspec": {
   "display_name": "Python 3.10.1 64-bit ('SEIRD_model': venv)",
   "language": "python",
   "name": "python3"
  },
  "language_info": {
   "codemirror_mode": {
    "name": "ipython",
    "version": 3
   },
   "file_extension": ".py",
   "mimetype": "text/x-python",
   "name": "python",
   "nbconvert_exporter": "python",
   "pygments_lexer": "ipython3",
   "version": "3.10.1"
  },
  "orig_nbformat": 4
 },
 "nbformat": 4,
 "nbformat_minor": 2
}
